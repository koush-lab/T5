{
 "cells": [
  {
   "cell_type": "code",
   "execution_count": null,
   "metadata": {
    "_cell_guid": "b1076dfc-b9ad-4769-8c92-a6c4dae69d19",
    "_uuid": "8f2839f25d086af736a60e9eeb907d3b93b6e0e5",
    "execution": {
     "iopub.execute_input": "2023-05-06T18:00:40.742997Z",
     "iopub.status.busy": "2023-05-06T18:00:40.742634Z",
     "iopub.status.idle": "2023-05-06T18:00:41.341671Z",
     "shell.execute_reply": "2023-05-06T18:00:41.340630Z",
     "shell.execute_reply.started": "2023-05-06T18:00:40.742968Z"
    }
   },
   "outputs": [],
   "source": [
    "import numpy as np # linear algebra\n",
    "import pandas as pd # data processing, CSV file I/O (e.g. pd.read_csv)\n",
    "from sklearn.model_selection import train_test_split\n",
    "# Input data files are available in the read-only \"../input/\" directory\n",
    "# For example, running this (by clicking run or pressing Shift+Enter) will list all files under the input directory\n",
    "\n",
    "import os\n",
    "for dirname, _, filenames in os.walk('/kaggle/input'):\n",
    "    for filename in filenames:\n",
    "        print(os.path.join(dirname, filename))\n",
    "\n",
    "# You can write up to 20GB to the current directory (/kaggle/working/) that gets preserved as output when you create a version using \"Save & Run All\" \n",
    "# You can also write temporary files to /kaggle/temp/, but they won't be saved outside of the current session"
   ]
  },
  {
   "cell_type": "code",
   "execution_count": null,
   "metadata": {
    "execution": {
     "iopub.execute_input": "2023-05-06T18:22:06.234479Z",
     "iopub.status.busy": "2023-05-06T18:22:06.234113Z",
     "iopub.status.idle": "2023-05-06T18:22:15.619550Z",
     "shell.execute_reply": "2023-05-06T18:22:15.618427Z",
     "shell.execute_reply.started": "2023-05-06T18:22:06.234445Z"
    }
   },
   "outputs": [],
   "source": [
    "pip install simplet5 -q"
   ]
  },
  {
   "cell_type": "code",
   "execution_count": null,
   "metadata": {
    "execution": {
     "iopub.execute_input": "2023-05-06T18:00:52.794963Z",
     "iopub.status.busy": "2023-05-06T18:00:52.794419Z",
     "iopub.status.idle": "2023-05-06T18:00:52.872156Z",
     "shell.execute_reply": "2023-05-06T18:00:52.871149Z",
     "shell.execute_reply.started": "2023-05-06T18:00:52.794908Z"
    }
   },
   "outputs": [],
   "source": [
    "df=pd.read_csv(\"/kaggle/input/news-summary/news_summary.csv\",encoding='latin-1',usecols=['headlines','text'])"
   ]
  },
  {
   "cell_type": "code",
   "execution_count": null,
   "metadata": {
    "execution": {
     "iopub.execute_input": "2023-05-06T18:08:01.997043Z",
     "iopub.status.busy": "2023-05-06T18:08:01.996686Z",
     "iopub.status.idle": "2023-05-06T18:08:02.005919Z",
     "shell.execute_reply": "2023-05-06T18:08:02.004848Z",
     "shell.execute_reply.started": "2023-05-06T18:08:01.997014Z"
    }
   },
   "outputs": [],
   "source": [
    "df.head()"
   ]
  },
  {
   "cell_type": "markdown",
   "metadata": {},
   "source": [
    "**T5 Data Prep with Training Data Column Names - source_text & target_text**"
   ]
  },
  {
   "cell_type": "code",
   "execution_count": null,
   "metadata": {
    "execution": {
     "iopub.execute_input": "2023-05-06T18:05:21.593437Z",
     "iopub.status.busy": "2023-05-06T18:05:21.592830Z",
     "iopub.status.idle": "2023-05-06T18:05:21.609971Z",
     "shell.execute_reply": "2023-05-06T18:05:21.608996Z",
     "shell.execute_reply.started": "2023-05-06T18:05:21.593402Z"
    }
   },
   "outputs": [],
   "source": [
    "#simpleT5 expects Dataframe to have 2 columns: \"source_text\" and \"target_text\"\n",
    "df = df.rename(columns={\"headlines\":\"target_text\",\"text\":\"source_text\"})\n",
    "df = df[['source_text','target_text']]"
   ]
  },
  {
   "cell_type": "code",
   "execution_count": null,
   "metadata": {
    "execution": {
     "iopub.execute_input": "2023-05-06T18:07:52.245805Z",
     "iopub.status.busy": "2023-05-06T18:07:52.245432Z",
     "iopub.status.idle": "2023-05-06T18:07:52.256493Z",
     "shell.execute_reply": "2023-05-06T18:07:52.255424Z",
     "shell.execute_reply.started": "2023-05-06T18:07:52.245774Z"
    }
   },
   "outputs": [],
   "source": [
    "df.head()"
   ]
  },
  {
   "cell_type": "markdown",
   "metadata": {},
   "source": [
    "***T5 Data Prep with Summarization Tax Prefix***"
   ]
  },
  {
   "cell_type": "code",
   "execution_count": null,
   "metadata": {
    "execution": {
     "iopub.execute_input": "2023-05-06T18:11:42.761532Z",
     "iopub.status.busy": "2023-05-06T18:11:42.761170Z",
     "iopub.status.idle": "2023-05-06T18:11:42.775890Z",
     "shell.execute_reply": "2023-05-06T18:11:42.774772Z",
     "shell.execute_reply.started": "2023-05-06T18:11:42.761504Z"
    }
   },
   "outputs": [],
   "source": [
    "df['source_text']= 'summarize: '+df['source_text']\n",
    "df"
   ]
  },
  {
   "cell_type": "code",
   "execution_count": null,
   "metadata": {
    "execution": {
     "iopub.execute_input": "2023-05-06T18:14:53.951393Z",
     "iopub.status.busy": "2023-05-06T18:14:53.951034Z",
     "iopub.status.idle": "2023-05-06T18:14:53.966643Z",
     "shell.execute_reply": "2023-05-06T18:14:53.965439Z",
     "shell.execute_reply.started": "2023-05-06T18:14:53.951365Z"
    }
   },
   "outputs": [],
   "source": [
    "train_df, test_df = train_test_split(df, test_size=0.3)\n",
    "train_df.shape, test_df.shape"
   ]
  },
  {
   "cell_type": "code",
   "execution_count": null,
   "metadata": {
    "execution": {
     "iopub.execute_input": "2023-05-06T18:24:10.381160Z",
     "iopub.status.busy": "2023-05-06T18:24:10.380628Z",
     "iopub.status.idle": "2023-05-06T18:24:28.013244Z",
     "shell.execute_reply": "2023-05-06T18:24:28.012252Z",
     "shell.execute_reply.started": "2023-05-06T18:24:10.381114Z"
    }
   },
   "outputs": [],
   "source": [
    "from simplet5 import SimpleT5\n",
    "\n",
    "model = SimpleT5()\n",
    "model.from_pretrained(model_type=\"t5\", model_name=\"t5-base\")"
   ]
  },
  {
   "cell_type": "code",
   "execution_count": null,
   "metadata": {
    "execution": {
     "iopub.execute_input": "2023-05-06T18:24:43.762718Z",
     "iopub.status.busy": "2023-05-06T18:24:43.762360Z",
     "iopub.status.idle": "2023-05-06T18:38:55.168085Z",
     "shell.execute_reply": "2023-05-06T18:38:55.167021Z",
     "shell.execute_reply.started": "2023-05-06T18:24:43.762690Z"
    }
   },
   "outputs": [],
   "source": [
    "model.train(train_df=train_df[:5000],\n",
    "            eval_df=test_df[:100], \n",
    "            source_max_token_len=128, \n",
    "            target_max_token_len=50, \n",
    "            batch_size=8, max_epochs=5, use_gpu=True)"
   ]
  },
  {
   "cell_type": "code",
   "execution_count": null,
   "metadata": {
    "execution": {
     "iopub.execute_input": "2023-05-06T18:40:40.156364Z",
     "iopub.status.busy": "2023-05-06T18:40:40.156019Z",
     "iopub.status.idle": "2023-05-06T18:40:41.404372Z",
     "shell.execute_reply": "2023-05-06T18:40:41.403218Z",
     "shell.execute_reply.started": "2023-05-06T18:40:40.156337Z"
    }
   },
   "outputs": [],
   "source": [
    "!( cd outputs; ls )"
   ]
  },
  {
   "cell_type": "code",
   "execution_count": null,
   "metadata": {
    "execution": {
     "iopub.execute_input": "2023-05-06T18:42:35.492400Z",
     "iopub.status.busy": "2023-05-06T18:42:35.492036Z",
     "iopub.status.idle": "2023-05-06T18:42:42.665525Z",
     "shell.execute_reply": "2023-05-06T18:42:42.664509Z",
     "shell.execute_reply.started": "2023-05-06T18:42:35.492373Z"
    }
   },
   "outputs": [],
   "source": [
    "model.load_model(\"t5\",\"outputs/simplet5-epoch-2-train-loss-0.9396-val-loss-1.2222\", use_gpu=True)"
   ]
  },
  {
   "cell_type": "code",
   "execution_count": null,
   "metadata": {
    "execution": {
     "iopub.execute_input": "2023-05-06T18:43:10.210744Z",
     "iopub.status.busy": "2023-05-06T18:43:10.210381Z",
     "iopub.status.idle": "2023-05-06T18:43:10.695739Z",
     "shell.execute_reply": "2023-05-06T18:43:10.694640Z",
     "shell.execute_reply.started": "2023-05-06T18:43:10.210716Z"
    }
   },
   "outputs": [],
   "source": [
    "text_to_summarize=\"\"\"summarize: Twitter’s interim resident grievance officer for India has stepped down, leaving the micro-blogging site without a grievance official as mandated by the new IT rules to address complaints from Indian subscribers, according to a source.\n",
    "\n",
    "The source said that Dharmendra Chatur, who was recently appointed as interim resident grievance officer for India by Twitter, has quit from the post.\n",
    "\n",
    "The social media company’s website no longer displays his name, as required under Information Technology (Intermediary Guidelines and Digital Media Ethics Code) Rules 2021.\n",
    "\n",
    "Twitter declined to comment on the development.\n",
    "\n",
    "The development comes at a time when the micro-blogging platform has been engaged in a tussle with the Indian government over the new social media rules. The government has slammed Twitter for deliberate defiance and failure to comply with the country’s new IT rules.\n",
    "\"\"\"\n",
    "model.predict(text_to_summarize)"
   ]
  }
 ],
 "metadata": {
  "kernelspec": {
   "display_name": "Python 3",
   "language": "python",
   "name": "python3"
  },
  "language_info": {
   "codemirror_mode": {
    "name": "ipython",
    "version": 3
   },
   "file_extension": ".py",
   "mimetype": "text/x-python",
   "name": "python",
   "nbconvert_exporter": "python",
   "pygments_lexer": "ipython3",
   "version": "3.7.7"
  }
 },
 "nbformat": 4,
 "nbformat_minor": 4
}
